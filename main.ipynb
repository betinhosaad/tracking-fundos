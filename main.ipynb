{
 "cells": [
  {
   "cell_type": "code",
   "execution_count": 1,
   "id": "1e4f46ae",
   "metadata": {},
   "outputs": [],
   "source": [
    "import pandas as pd\n",
    "import numpy as np\n",
    "from datetime import date\n",
    "import quantstats as qs\n",
    "import warnings\n",
    "warnings.simplefilter(action='ignore')"
   ]
  },
  {
   "cell_type": "code",
   "execution_count": 2,
   "id": "780f2217",
   "metadata": {},
   "outputs": [],
   "source": [
    "df = pd.read_csv(\"funds_return.csv\",index_col=0)\n",
    "df.index = pd.to_datetime(df.index)"
   ]
  },
  {
   "cell_type": "code",
   "execution_count": 12,
   "id": "7f315218",
   "metadata": {},
   "outputs": [],
   "source": [
    "serie = df.iloc[:, 0].dropna().sort_index()"
   ]
  },
  {
   "cell_type": "code",
   "execution_count": 17,
   "id": "0b7ea151",
   "metadata": {},
   "outputs": [
    {
     "name": "stderr",
     "output_type": "stream",
     "text": [
      "2025-06-26 10:07:55.035 WARNING streamlit.runtime.scriptrunner_utils.script_run_context: Thread 'MainThread': missing ScriptRunContext! This warning can be ignored when running in bare mode.\n",
      "2025-06-26 10:07:55.149 \n",
      "  \u001b[33m\u001b[1mWarning:\u001b[0m to view this Streamlit app on a browser, run it with the following\n",
      "  command:\n",
      "\n",
      "    streamlit run c:\\Users\\AlbertoCoppola\\OneDrive - Perenne Investimentos\\Python Codes\\.venv\\Lib\\site-packages\\ipykernel_launcher.py [ARGUMENTS]\n",
      "2025-06-26 10:07:55.152 Thread 'MainThread': missing ScriptRunContext! This warning can be ignored when running in bare mode.\n",
      "2025-06-26 10:07:55.153 Thread 'MainThread': missing ScriptRunContext! This warning can be ignored when running in bare mode.\n"
     ]
    },
    {
     "name": "stdout",
     "output_type": "stream",
     "text": [
      "                    Strategy\n",
      "------------------  ----------\n",
      "Start Period        2024-04-29\n",
      "End Period          2025-06-11\n",
      "Risk-Free Rate      0.0%\n",
      "Time in Market      96.0%\n",
      "\n",
      "Cumulative Return   16.12%\n",
      "CAGR﹪              9.67%\n",
      "\n",
      "Sharpe              3.11\n",
      "Prob. Sharpe Ratio  99.99%\n",
      "Sortino             5.65\n",
      "Sortino/√2          4.0\n",
      "Omega               1.74\n",
      "\n",
      "Max Drawdown        -1.18%\n",
      "Longest DD Days     82\n",
      "\n",
      "Gain/Pain Ratio     0.74\n",
      "Gain/Pain (1M)      20.98\n",
      "\n",
      "Payoff Ratio        1.05\n",
      "Profit Factor       1.74\n",
      "Common Sense Ratio  2.39\n",
      "CPC Index           1.14\n",
      "Tail Ratio          1.37\n",
      "Outlier Win Ratio   3.83\n",
      "Outlier Loss Ratio  2.87\n",
      "\n",
      "MTD                 0.45%\n",
      "3M                  4.69%\n",
      "6M                  6.25%\n",
      "YTD                 6.37%\n",
      "1Y                  14.63%\n",
      "3Y (ann.)           9.67%\n",
      "5Y (ann.)           9.67%\n",
      "10Y (ann.)          9.67%\n",
      "All-time (ann.)     9.67%\n",
      "\n",
      "Avg. Drawdown       -0.41%\n",
      "Avg. Drawdown Days  9\n",
      "Recovery Factor     12.77\n",
      "Ulcer Index         0.0\n",
      "Serenity Index      11.91\n"
     ]
    },
    {
     "name": "stderr",
     "output_type": "stream",
     "text": [
      "2025-06-26 10:07:57.077 Thread 'MainThread': missing ScriptRunContext! This warning can be ignored when running in bare mode.\n",
      "2025-06-26 10:07:57.078 Thread 'MainThread': missing ScriptRunContext! This warning can be ignored when running in bare mode.\n",
      "2025-06-26 10:07:57.079 Thread 'MainThread': missing ScriptRunContext! This warning can be ignored when running in bare mode.\n",
      "2025-06-26 10:07:57.290 Thread 'MainThread': missing ScriptRunContext! This warning can be ignored when running in bare mode.\n",
      "2025-06-26 10:07:57.766 Thread 'MainThread': missing ScriptRunContext! This warning can be ignored when running in bare mode.\n",
      "2025-06-26 10:07:57.767 Thread 'MainThread': missing ScriptRunContext! This warning can be ignored when running in bare mode.\n",
      "2025-06-26 10:07:57.767 Thread 'MainThread': missing ScriptRunContext! This warning can be ignored when running in bare mode.\n",
      "2025-06-26 10:08:00.170 Thread 'MainThread': missing ScriptRunContext! This warning can be ignored when running in bare mode.\n",
      "2025-06-26 10:08:00.171 Thread 'MainThread': missing ScriptRunContext! This warning can be ignored when running in bare mode.\n",
      "2025-06-26 10:08:00.171 Thread 'MainThread': missing ScriptRunContext! This warning can be ignored when running in bare mode.\n"
     ]
    },
    {
     "data": {
      "text/plain": [
       "DeltaGenerator()"
      ]
     },
     "execution_count": 17,
     "metadata": {},
     "output_type": "execute_result"
    }
   ],
   "source": [
    "import streamlit as st\n",
    "import pandas as pd\n",
    "import quantstats as qs\n",
    "import matplotlib.pyplot as plt\n",
    "\n",
    "# Carrega os retornos\n",
    "df = pd.read_csv(\"funds_return.csv\", index_col=0)\n",
    "df.index = pd.to_datetime(df.index)\n",
    "serie = df.iloc[:,0].dropna().sort_index()\n",
    "\n",
    "st.title(\"Análise QuantStats do Fundo\")\n",
    "\n",
    "# Exibe métricas principais\n",
    "metrics = qs.reports.metrics(serie)\n",
    "st.dataframe(metrics)\n",
    "\n",
    "# Exibe um gráfico\n",
    "fig = qs.plots.snapshot(serie, show=False)\n",
    "st.pyplot(fig)\n",
    "\n",
    "# Se quiser exibir o relatório HTML dentro do Streamlit:\n",
    "qs.reports.html(serie, output=\"relatorio.html\")\n",
    "with open(\"relatorio.html\", \"r\", encoding=\"utf-8\") as f:\n",
    "    html = f.read()\n",
    "st.components.v1.html(html, height=900, scrolling=True)"
   ]
  }
 ],
 "metadata": {
  "kernelspec": {
   "display_name": ".venv",
   "language": "python",
   "name": "python3"
  },
  "language_info": {
   "codemirror_mode": {
    "name": "ipython",
    "version": 3
   },
   "file_extension": ".py",
   "mimetype": "text/x-python",
   "name": "python",
   "nbconvert_exporter": "python",
   "pygments_lexer": "ipython3",
   "version": "3.13.5"
  }
 },
 "nbformat": 4,
 "nbformat_minor": 5
}
